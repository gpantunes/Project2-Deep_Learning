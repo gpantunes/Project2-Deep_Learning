{
 "cells": [
  {
   "cell_type": "code",
   "execution_count": 1,
   "id": "09621229-d756-4908-9564-93385bd4c62f",
   "metadata": {},
   "outputs": [],
   "source": [
    "from Environment.snake_game import SnakeGame\n",
    "import matplotlib.pyplot as plt\n",
    "import numpy as np\n",
    "from numpy.random import randint\n",
    "import imageio # For video generation"
   ]
  },
  {
   "cell_type": "code",
   "execution_count": 2,
   "id": "7349b320-4991-4cb2-b12d-1ba3c6e3bfff",
   "metadata": {},
   "outputs": [],
   "source": [
    "def plot_board(board,text=None):\n",
    "    plt.figure(figsize=(2,2))\n",
    "    plt.imshow(board)\n",
    "    plt.axis('off')\n",
    "    if text is not None:\n",
    "        plt.gca().text(3, 3, text, fontsize=45,color = 'yellow')\n",
    "    #plt.savefig(file_name,bbox_inches='tight')\n",
    "    plt.show()\n",
    "    plt.close()"
   ]
  },
  {
   "cell_type": "code",
   "execution_count": 23,
   "id": "1cc01cb5-7ea7-4506-a645-25662386fe87",
   "metadata": {},
   "outputs": [],
   "source": [
    "game = SnakeGame(width=14, height = 14, border = 1)\n",
    "board,reward,done,info = game.reset()\n",
    "a = {'forw': 0, 'left': -1, 'right': 1}"
   ]
  },
  {
   "cell_type": "code",
   "execution_count": 53,
   "id": "8dc82b15-4741-4266-828f-00d67422312b",
   "metadata": {},
   "outputs": [],
   "source": [
    "states = {\n",
    "    'board': [],\n",
    "    'reward': [],\n",
    "    'done': -1,\n",
    "    'info': []\n",
    "}"
   ]
  },
  {
   "cell_type": "code",
   "execution_count": 4,
   "id": "baf6f037-36c5-4308-8725-92fd45d8d321",
   "metadata": {},
   "outputs": [],
   "source": [
    "class SnakeHeuristic:\n",
    "    def __init__(self, game: SnakeGame):\n",
    "        self.game = game\n",
    "        # Map: game_direction_idx -> (row_change, col_change)\n",
    "        self.delta_coords = {\n",
    "            0: (-1, 0),  # Up\n",
    "            1: (0, 1),   # Right\n",
    "            2: (1, 0),   # Down\n",
    "            3: (0, -1)   # Left\n",
    "        }\n",
    "\n",
    "    def _get_closest_apple_pos(self):\n",
    "        if not self.game.apples:\n",
    "            return None\n",
    "        \n",
    "        head_r, head_c = self.game.snake[0]\n",
    "        closest_apple = None\n",
    "        min_dist = float('inf')\n",
    "\n",
    "        for apple_r, apple_c in self.game.apples:\n",
    "            # Manhattan distance\n",
    "            dist = abs(apple_r - head_r) + abs(apple_c - head_c)\n",
    "            if dist < min_dist:\n",
    "                min_dist = dist\n",
    "                closest_apple = (apple_r, apple_c)\n",
    "        return closest_apple\n",
    "\n",
    "    def _is_safe_move(self, next_head_r, next_head_c):\n",
    "        # 1. Check wall collision\n",
    "        if not (0 <= next_head_r < self.game.height and \\\n",
    "                0 <= next_head_c < self.game.width):\n",
    "            return False\n",
    "        \n",
    "        # 2. Check self-collision (with current body, excluding current head)\n",
    "        # self.game.snake[0] is current head, self.game.snake[1:] is current body\n",
    "        if (next_head_r, next_head_c) in self.game.snake[1:]:\n",
    "            return False\n",
    "            \n",
    "        return True\n",
    "\n",
    "    def choose_action(self):\n",
    "        \"\"\"\n",
    "        Chooses an action (-1: left, 0: straight, 1: right) to move towards the closest apple.\n",
    "        \"\"\"\n",
    "        target_apple_pos = self._get_closest_apple_pos()\n",
    "\n",
    "        if target_apple_pos is None: # No apples on board\n",
    "            return 0 # Default action: go straight\n",
    "\n",
    "        head_r, head_c = self.game.snake[0]\n",
    "        current_game_direction = self.game.direction # 0:Up, 1:Right, 2:Down, 3:Left\n",
    "\n",
    "        candidate_actions = [] # List to store {'action': val, 'distance': dist}\n",
    "\n",
    "        # Try actions: -1 (turn left), 0 (straight), 1 (turn right)\n",
    "        for action_value in [-1, 0, 1]:\n",
    "            # Determine the game direction after this action\n",
    "            next_game_direction = (current_game_direction + action_value) % 4\n",
    "            if next_game_direction < 0: next_game_direction += 4\n",
    "\n",
    "            # Get change in coordinates for this game direction\n",
    "            dr, dc = self.delta_coords[next_game_direction]\n",
    "            \n",
    "            # Calculate potential next head position\n",
    "            next_head_r, next_head_c = head_r + dr, head_c + dc\n",
    "\n",
    "            if self._is_safe_move(next_head_r, next_head_c):\n",
    "                # Calculate Manhattan distance from this potential new head to the apple\n",
    "                dist_to_apple = abs(target_apple_pos[0] - next_head_r) + \\\n",
    "                                abs(target_apple_pos[1] - next_head_c)\n",
    "                candidate_actions.append({\n",
    "                    'action': action_value, \n",
    "                    'distance': dist_to_apple\n",
    "                })\n",
    "        \n",
    "        if not candidate_actions: # All potential moves are unsafe\n",
    "            return 0 # Default to going straight (likely game over)\n",
    "\n",
    "        # Sort candidates:\n",
    "        # Primary: by distance to apple (ascending)\n",
    "        # Secondary: prefer straight (0), then right (1), then left (-1) to break ties\n",
    "        def sort_key(candidate):\n",
    "            action = candidate['action']\n",
    "            preference = 0 # Max preference for straight\n",
    "            if action == 1: preference = 1 # Medium for right\n",
    "            elif action == -1: preference = 2 # Low for left\n",
    "            return (candidate['distance'], preference)\n",
    "\n",
    "        candidate_actions.sort(key=sort_key)\n",
    "        \n",
    "        return candidate_actions[0]['action']\n",
    "\n",
    "    def play_game_and_record(self, max_steps: int, video_filename: str = \"snake_heuristic_game.gif\", fps: int = 5):\n",
    "        \"\"\"\n",
    "        Plays the game using the heuristic and records it as a video.\n",
    "        :param max_steps: Maximum number of steps to play in the game.\n",
    "        :param video_filename: Filename for the output video (e.g., \"game.gif\" or \"game.mp4\").\n",
    "        :param fps: Frames per second for the video.\n",
    "        \"\"\"\n",
    "        frames = []\n",
    "        board_state, _, done, info = self.game.reset() # Reset game and get initial state\n",
    "        \n",
    "        # Convert board_state (float32, 0-1 range) to uint8 (0-255 range) for video\n",
    "        frames.append((board_state * 255).astype(np.uint8))\n",
    "\n",
    "        print(f\"Starting game with heuristic. Max steps: {max_steps}. Recording to {video_filename}\")\n",
    "\n",
    "        for step_num in range(max_steps):\n",
    "            if done:\n",
    "                print(f\"Game ended prematurely at step {step_num} before taking action. Score: {info['score']}\")\n",
    "                break\n",
    "\n",
    "            action_to_take = self.choose_action()\n",
    "            board_state, reward, done, info = self.game.step(action_to_take)\n",
    "            \n",
    "            frames.append((board_state * 255).astype(np.uint8))\n",
    "            \n",
    "            # Optional: print progress\n",
    "            if (step_num + 1) % 100 == 0:\n",
    "                 print(f\"Step {step_num+1}/{max_steps}, Score: {info['score']}, Done: {done}\")\n",
    "\n",
    "\n",
    "            if done:\n",
    "                print(f\"Game over at step {step_num+1}. Final Score: {info['score']}\")\n",
    "                break\n",
    "        else: # Loop completed without break (max_steps reached)\n",
    "            print(f\"Game finished after {max_steps} steps (max_steps reached). Final Score: {self.game.score}\")\n",
    "\n",
    "        # Save frames as a video/gif\n",
    "        if frames:\n",
    "            print(f\"Saving video with {len(frames)} frames at {fps} FPS...\")\n",
    "            try:\n",
    "                imageio.mimsave(video_filename, frames, fps=fps)\n",
    "                print(f\"Video saved successfully as {video_filename}\")\n",
    "            except Exception as e:\n",
    "                print(f\"Error saving video: {e}\")\n",
    "                print(\"Please ensure you have an imageio backend installed (e.g., 'pip install imageio[ffmpeg]' for MP4 or 'pip install imageio pillow' for GIF).\")\n",
    "        else:\n",
    "            print(\"No frames recorded.\")"
   ]
  },
  {
   "cell_type": "code",
   "execution_count": 5,
   "id": "027ca97c-a5d1-4f42-84c7-8435cd088967",
   "metadata": {},
   "outputs": [],
   "source": [
    "GAME_WIDTH = 20\n",
    "GAME_HEIGHT = 20\n",
    "BORDER_SIZE = 1 # Add a visual border of 1 pixel (value 0.5, gray)\n",
    "MAX_GAME_STEPS = 500 # Set a limit for the game length\n",
    "VIDEO_FILENAME = \"snake_ai_player.gif\" # or \"snake_ai_player.mp4\"\n",
    "FPS = 5 # Faster for smoother video"
   ]
  },
  {
   "cell_type": "code",
   "execution_count": 6,
   "id": "81c099eb-13d2-4163-968d-13d0ca19ae57",
   "metadata": {},
   "outputs": [],
   "source": [
    "game_instance = SnakeGame(width=GAME_WIDTH, height=GAME_HEIGHT, border=BORDER_SIZE, food_amount=2, grass_growth=0.01, max_grass=1)"
   ]
  },
  {
   "cell_type": "code",
   "execution_count": 7,
   "id": "31906eac-adac-419e-8550-bee9b0c738c3",
   "metadata": {},
   "outputs": [],
   "source": [
    "heuristic_player = SnakeHeuristic(game=game_instance)"
   ]
  },
  {
   "cell_type": "code",
   "execution_count": 8,
   "id": "3f612b40-2a4a-4179-b16c-b19e44ce3e7a",
   "metadata": {},
   "outputs": [
    {
     "name": "stdout",
     "output_type": "stream",
     "text": [
      "Starting game with heuristic. Max steps: 500. Recording to snake_ai_player.gif\n",
      "Step 100/500, Score: 939.6, Done: False\n",
      "Step 200/500, Score: 1846.8, Done: False\n",
      "Game over at step 237. Final Score: 2162.7\n",
      "Saving video with 238 frames at 5 FPS...\n",
      "Video saved successfully as snake_ai_player.gif\n"
     ]
    }
   ],
   "source": [
    "heuristic_player.play_game_and_record(max_steps=MAX_GAME_STEPS, \n",
    "                                          video_filename=VIDEO_FILENAME, \n",
    "                                          fps=FPS)"
   ]
  },
  {
   "cell_type": "code",
   "execution_count": 24,
   "id": "6729db1f-20a3-4eba-a87f-e7a45006b9aa",
   "metadata": {},
   "outputs": [
    {
     "data": {
      "image/png": "[encoded data removed]",
      "text/plain": [
       "<Figure size 200x200 with 1 Axes>"
      ]
     },
     "metadata": {},
     "output_type": "display_data"
    }
   ],
   "source": [
    "plot_board(board)"
   ]
  },
  {
   "cell_type": "code",
   "execution_count": 25,
   "id": "fbe979d9-9e31-45a4-ad4c-4ddc9e2b6668",
   "metadata": {},
   "outputs": [],
   "source": [
    "board,reward,done,info = game.step(a['left'])"
   ]
  },
  {
   "cell_type": "code",
   "execution_count": 26,
   "id": "310e7cef-50a3-424c-900b-512f6e970131",
   "metadata": {},
   "outputs": [
    {
     "data": {
      "image/png": "[encoded data removed]",
      "text/plain": [
       "<Figure size 200x200 with 1 Axes>"
      ]
     },
     "metadata": {},
     "output_type": "display_data"
    }
   ],
   "source": [
    "plot_board(board)"
   ]
  },
  {
   "cell_type": "code",
   "execution_count": 27,
   "id": "4bf3af36-d8c6-4824-bbf9-c15369bf7b26",
   "metadata": {},
   "outputs": [],
   "source": [
    "board,reward,done,info = game.step(a['right'])"
   ]
  },
  {
   "cell_type": "code",
   "execution_count": 28,
   "id": "71a286c5-be50-42b9-9cd7-2b804349ced3",
   "metadata": {},
   "outputs": [
    {
     "data": {
      "image/png": "[encoded data removed]",
      "text/plain": [
       "<Figure size 200x200 with 1 Axes>"
      ]
     },
     "metadata": {},
     "output_type": "display_data"
    }
   ],
   "source": [
    "plot_board(board)"
   ]
  },
  {
   "cell_type": "code",
   "execution_count": 29,
   "id": "74b10d35-c8a7-41e8-81da-b142ca74d4dd",
   "metadata": {},
   "outputs": [],
   "source": [
    "board,reward,done,info = game.step(a['right'])"
   ]
  },
  {
   "cell_type": "code",
   "execution_count": 30,
   "id": "2a7f5a2d-d256-467f-aff3-7f7d381ef953",
   "metadata": {},
   "outputs": [
    {
     "data": {
      "image/png": "[encoded data removed]",
      "text/plain": [
       "<Figure size 200x200 with 1 Axes>"
      ]
     },
     "metadata": {},
     "output_type": "display_data"
    }
   ],
   "source": [
    "plot_board(board)"
   ]
  },
  {
   "cell_type": "code",
   "execution_count": 31,
   "id": "b6c42413-d17d-4e22-a43c-c0b4cd51fa3c",
   "metadata": {},
   "outputs": [],
   "source": [
    "board,reward,done,info = game.step(a['forw'])"
   ]
  },
  {
   "cell_type": "code",
   "execution_count": 32,
   "id": "69da254d-a4cb-48c7-a0c2-cd99209c188e",
   "metadata": {},
   "outputs": [
    {
     "data": {
      "image/png": "[encoded data removed]",
      "text/plain": [
       "<Figure size 200x200 with 1 Axes>"
      ]
     },
     "metadata": {},
     "output_type": "display_data"
    }
   ],
   "source": [
    "plot_board(board)"
   ]
  },
  {
   "cell_type": "code",
   "execution_count": 47,
   "id": "ef454287-9b45-4a8e-ba27-744a31db2701",
   "metadata": {},
   "outputs": [],
   "source": [
    "board,reward,done,info = game.step(a['forw'])"
   ]
  },
  {
   "cell_type": "code",
   "execution_count": 48,
   "id": "182c289c-d5c9-4c4d-bb0c-2e4816300bac",
   "metadata": {},
   "outputs": [
    {
     "data": {
      "image/png": "[encoded data removed]",
      "text/plain": [
       "<Figure size 200x200 with 1 Axes>"
      ]
     },
     "metadata": {},
     "output_type": "display_data"
    }
   ],
   "source": [
    "plot_board(board)"
   ]
  },
  {
   "cell_type": "code",
   "execution_count": 50,
   "id": "01e02526-8f82-40cc-af1f-912673d45c5e",
   "metadata": {},
   "outputs": [
    {
     "data": {
      "text/plain": [
       "False"
      ]
     },
     "execution_count": 50,
     "metadata": {},
     "output_type": "execute_result"
    }
   ],
   "source": [
    "done"
   ]
  },
  {
   "cell_type": "code",
   "execution_count": null,
   "id": "72183467-64a3-4a99-98a4-b743404a2061",
   "metadata": {},
   "outputs": [],
   "source": []
  }
 ],
 "metadata": {
  "kernelspec": {
   "display_name": "Apenv",
   "language": "python",
   "name": "apenv"
  },
  "language_info": {
   "codemirror_mode": {
    "name": "ipython",
    "version": 3
   },
   "file_extension": ".py",
   "mimetype": "text/x-python",
   "name": "python",
   "nbconvert_exporter": "python",
   "pygments_lexer": "ipython3",
   "version": "3.12.3"
  }
 },
 "nbformat": 4,
 "nbformat_minor": 5
}
